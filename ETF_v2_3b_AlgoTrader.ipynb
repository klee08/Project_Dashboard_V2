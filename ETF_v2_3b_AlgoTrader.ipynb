{
 "cells": [
  {
   "cell_type": "markdown",
   "id": "c5eb3370-c05e-456f-a613-0b8404e9fcd3",
   "metadata": {},
   "source": [
    "ETF DASHBOARD V.2.0"
   ]
  },
  {
   "cell_type": "markdown",
   "id": "9e0d883f-3be6-4017-a282-e84ca63ac7a8",
   "metadata": {},
   "source": [
    "# | AlgoTrader \n",
    "- Algorithmic Financial Trading with Deep Convolutional Neural Networks\n",
    "- *inspired by paper \"Algorithmic Financial Trading with Deep Convolutional Neural Networks: Time Series to Image Conversion Approach\"\n",
    "- implemenetation reference for neural network prediction model: https://towardsdatascience.com/stock-market-action-prediction-with-convnet-8689238feae3"
   ]
  },
  {
   "cell_type": "code",
   "execution_count": 23,
   "id": "caf35894-4a9c-4d33-bacc-5c80c7fee8e8",
   "metadata": {},
   "outputs": [],
   "source": [
    "# Author: Ken Lee 2020.01.12\n",
    "# Our Library\n",
    "import ETFFundamentalData as finData\n",
    "import ETFHistoryDownload as hist\n",
    "import ETFStockAnalytics as analytic\n",
    "import ETFPerformanceForecast as perf\n",
    "# Common Library\n",
    "import sqlalchemy as sql\n",
    "import hvplot.pandas\n",
    "import numpy as np\n",
    "from pandas import ExcelWriter\n",
    "import pandas as pd\n",
    "#import datetime\n",
    "import time\n",
    "import os\n",
    "from pathlib import Path\n",
    "import logging\n",
    "from dateutil.relativedelta import relativedelta\n",
    "from datetime import datetime\n",
    "import pickle \n",
    "import numpy as np\n",
    "from tqdm import tqdm_notebook as tqdm\n",
    "from IPython.core.interactiveshell import InteractiveShell\n",
    "# DB Connection\n",
    "eft_data_connection_string = 'sqlite:///./Resources/etf.db'\n",
    "our_portfolio_export = Path('./Resources/our_portfolio.csv')\n",
    "etf_data_engine = sql.create_engine(eft_data_connection_string, echo=True)\n",
    "# IF REQUIRED TO RELOAD - SET TRUE\n",
    "RELOAD_DATA = False\n",
    "DEBUG_MODE = False"
   ]
  },
  {
   "cell_type": "markdown",
   "id": "c5628679-7ebf-4f0a-8cbf-986fac5e4ffe",
   "metadata": {},
   "source": [
    "## STEP1. LOAD Fresh_rolling_train Data for ML Training"
   ]
  },
  {
   "cell_type": "code",
   "execution_count": 24,
   "id": "63004f53-9c58-4c45-a784-e3d79539ed5e",
   "metadata": {},
   "outputs": [
    {
     "name": "stdout",
     "output_type": "stream",
     "text": [
      "['ACN', 'AMAT', 'AMD', 'APPS', 'ARWR', 'CBRE', 'DE', 'DHR', 'DOCU', 'EL', 'EPAM', 'FB', 'GE', 'GOOG', 'GOOGL', 'GS', 'IRT', 'KEYS', 'KLAC', 'LCII', 'LIN', 'LRCX', 'LSCC', 'LULU', 'MPWR', 'MRVL', 'MSFT', 'MU', 'NEO', 'NXPI', 'PAYC', 'PLD', 'POOL', 'QCOM', 'QQQ', 'QRVO', 'RH', 'ROKU', 'SAIA', 'SEDG', 'SNBR', 'SNPS', 'SPY', 'STX', 'SWKS', 'TER', 'TGT', 'TSLA', 'UPS', 'VICR', 'WST', 'XLK', 'YETI']\n"
     ]
    }
   ],
   "source": [
    "# Load Fresh_rolling_train Data for ML Training\n",
    "sql_query = \"\"\"\n",
    "SELECT distinct symbol as symbol\n",
    "FROM 'OUR_PORTFOLIO_LIST'\n",
    "UNION\n",
    "SELECT 'SPY'\n",
    "\"\"\"\n",
    "our_portfolio_list = pd.read_sql_query(sql_query, eft_data_connection_string)\n",
    "our_portfolio_list = our_portfolio_list.set_index('symbol')  \n",
    "symbol_list = []\n",
    "for symbol in our_portfolio_list.index:\n",
    "    symbol_list.append(symbol)\n",
    "\n",
    "\n",
    "print(symbol_list)"
   ]
  },
  {
   "cell_type": "code",
   "execution_count": 77,
   "id": "3ccb72b4-17a3-4901-bd4b-eff31ad9d1b0",
   "metadata": {},
   "outputs": [],
   "source": [
    "def load_train_data_from_csv(p_symbol):\n",
    "    l_df = pd.read_csv(\"./outputs/fresh_rolling_train/df_\"+p_symbol+\".csv\")\n",
    "    l_df['labels'] = l_df['labels'].astype(np.int8)\n",
    "    #l_df = l_df.set_index('timestamp')\n",
    "    if 'dividend_amount' in l_df.columns:\n",
    "        l_df.drop(columns=['dividend_amount', 'split_coefficient'], inplace=True)\n",
    "    return l_df\n"
   ]
  },
  {
   "cell_type": "code",
   "execution_count": 26,
   "id": "89af5f0a-47dd-4040-b8ad-b5d722b7898c",
   "metadata": {},
   "outputs": [],
   "source": [
    "from sklearn.utils.class_weight import compute_class_weight\n",
    "import tensorflow as tf\n",
    "from tensorflow.keras import backend as K\n",
    "from tensorflow.keras.utils import get_custom_objects\n",
    "\n",
    "def get_sample_weights(y):\n",
    "    \"\"\"\n",
    "    calculate the sample weights based on class weights. Used for models with\n",
    "    imbalanced data and one hot encoding prediction.\n",
    "\n",
    "    params:\n",
    "        y: class labels as integers\n",
    "    \"\"\"\n",
    "\n",
    "    y = y.astype(int)  # compute_class_weight needs int labels\n",
    "    class_weights = compute_class_weight(class_weight='balanced',classes=np.unique(y),y=y)\n",
    "    \n",
    "    print(\"real class weights are {}\".format(class_weights), np.unique(y))\n",
    "    print(\"value_counts\", np.unique(y, return_counts=True))\n",
    "    sample_weights = y.copy().astype(float)\n",
    "    for i in np.unique(y):\n",
    "        sample_weights[sample_weights == i] = class_weights[i]  # if i == 2 else 0.8 * class_weights[i]\n",
    "        # sample_weights = np.where(sample_weights == i, class_weights[int(i)], y_)\n",
    "\n",
    "    return sample_weights\n",
    "\n",
    "def reshape_as_image(x, img_width, img_height):\n",
    "    x_temp = np.zeros((len(x), img_height, img_width))\n",
    "    for i in range(x.shape[0]):\n",
    "        # print(type(x), type(x_temp), x.shape)\n",
    "        x_temp[i] = np.reshape(x[i], (img_height, img_width))\n",
    "\n",
    "    return x_temp\n",
    "\n",
    "def f1_weighted(y_true, y_pred):\n",
    "    y_true_class = tf.math.argmax(y_true, axis=1, output_type=tf.dtypes.int32)\n",
    "    y_pred_class = tf.math.argmax(y_pred, axis=1, output_type=tf.dtypes.int32)\n",
    "    conf_mat = tf.math.confusion_matrix(y_true_class, y_pred_class)  # can use conf_mat[0, :], tf.slice()\n",
    "    # precision = TP/TP+FP, recall = TP/TP+FN\n",
    "    rows, cols = conf_mat.get_shape()\n",
    "    size = y_true_class.get_shape()[0]\n",
    "    precision = tf.constant([0, 0, 0])  # change this to use rows/cols as size\n",
    "    recall = tf.constant([0, 0, 0])\n",
    "    class_counts = tf.constant([0, 0, 0])\n",
    "\n",
    "    def get_precision(i, conf_mat):\n",
    "        print(\"prec check\", conf_mat, conf_mat[i, i], tf.reduce_sum(conf_mat[:, i]))\n",
    "        precision[i].assign(conf_mat[i, i] / tf.reduce_sum(conf_mat[:, i]))\n",
    "        recall[i].assign(conf_mat[i, i] / tf.reduce_sum(conf_mat[i, :]))\n",
    "        tf.add(i, 1)\n",
    "        return i, conf_mat, precision, recall\n",
    "\n",
    "    def tf_count(i):\n",
    "        elements_equal_to_value = tf.equal(y_true_class, i)\n",
    "        as_ints = tf.cast(elements_equal_to_value, tf.int32)\n",
    "        count = tf.reduce_sum(as_ints)\n",
    "        class_counts[i].assign(count)\n",
    "        tf.add(i, 1)\n",
    "        return count\n",
    "\n",
    "    def condition(i, conf_mat):\n",
    "        return tf.less(i, 3)\n",
    "\n",
    "    i = tf.constant(3)\n",
    "    i, conf_mat = tf.while_loop(condition, get_precision, [i, conf_mat])\n",
    "\n",
    "    i = tf.constant(3)\n",
    "    c = lambda i: tf.less(i, 3)\n",
    "    b = tf_count(i)\n",
    "    tf.while_loop(c, b, [i])\n",
    "\n",
    "    weights = tf.math.divide(class_counts, size)\n",
    "    numerators = tf.math.multiply(tf.math.multiply(precision, recall), tf.constant(2))\n",
    "    denominators = tf.math.add(precision, recall)\n",
    "    f1s = tf.math.divide(numerators, denominators)\n",
    "    weighted_f1 = tf.reduce_sum(f.math.multiply(f1s, weights))\n",
    "    return weighted_f1\n",
    "\n",
    "def f1_metric(y_true, y_pred):\n",
    "    \"\"\"\n",
    "    this calculates precision & recall \n",
    "    \"\"\"\n",
    "\n",
    "    def recall(y_true, y_pred):\n",
    "        true_positives = K.sum(K.round(K.clip(y_true * y_pred, 0, 1)))  # mistake: y_pred of 0.3 is also considered 1\n",
    "        possible_positives = K.sum(K.round(K.clip(y_true, 0, 1)))\n",
    "        recall = true_positives / (possible_positives + K.epsilon())\n",
    "        return recall\n",
    "\n",
    "    def precision(y_true, y_pred):\n",
    "        true_positives = K.sum(K.round(K.clip(y_true * y_pred, 0, 1)))\n",
    "        predicted_positives = K.sum(K.round(K.clip(y_pred, 0, 1)))\n",
    "        precision = true_positives / (predicted_positives + K.epsilon())\n",
    "        return precision\n",
    "\n",
    "    precision = precision(y_true, y_pred)\n",
    "    recall = recall(y_true, y_pred)\n",
    "    # y_true_class = tf.math.argmax(y_true, axis=1, output_type=tf.dtypes.int32)\n",
    "    # y_pred_class = tf.math.argmax(y_pred, axis=1, output_type=tf.dtypes.int32)\n",
    "    # conf_mat = tf.math.confusion_matrix(y_true_class, y_pred_class)\n",
    "    # tf.Print(conf_mat, [conf_mat], \"confusion_matrix\")\n",
    "\n",
    "    return 2 * ((precision * recall) / (precision + recall + K.epsilon()))\n",
    "\n"
   ]
  },
  {
   "cell_type": "code",
   "execution_count": 75,
   "id": "d3ac487d-80e9-4e4b-b843-7e62c604bb95",
   "metadata": {},
   "outputs": [],
   "source": [
    "from functools import *\n",
    "from sklearn.metrics import f1_score\n",
    "from tensorflow.keras.metrics import AUC\n",
    "def f1_custom(y_true, y_pred):\n",
    "    y_t = np.argmax(y_true, axis=1)\n",
    "    y_p = np.argmax(y_pred, axis=1)\n",
    "    f1_score(y_t, y_p, labels=None, average='weighted', sample_weight=None, zero_division='warn')\n",
    "\n",
    "def create_model_cnn(params):\n",
    "    model = Sequential()\n",
    "\n",
    "    print(\"Training with params {}\".format(params))\n",
    "    \n",
    "    conv2d_layer1 = Conv2D(params[\"conv2d_layers\"][\"conv2d_filters_1\"],\n",
    "                           params[\"conv2d_layers\"][\"conv2d_kernel_size_1\"],\n",
    "                           strides=params[\"conv2d_layers\"][\"conv2d_strides_1\"],\n",
    "                           kernel_regularizer=regularizers.l2(params[\"conv2d_layers\"][\"kernel_regularizer_1\"]), \n",
    "                           padding='same',activation=\"relu\", use_bias=True,\n",
    "                           kernel_initializer='glorot_uniform',\n",
    "                           input_shape=(x_train[0].shape[0],\n",
    "                                        x_train[0].shape[1], x_train[0].shape[2]))\n",
    "    model.add(conv2d_layer1)\n",
    "    if params[\"conv2d_layers\"]['conv2d_mp_1'] > 1:\n",
    "        model.add(MaxPool2D(pool_size=params[\"conv2d_layers\"]['conv2d_mp_1']))\n",
    "        \n",
    "    model.add(Dropout(params['conv2d_layers']['conv2d_do_1']))\n",
    "    if params[\"conv2d_layers\"]['layers'] == 'two':\n",
    "        conv2d_layer2 = Conv2D(params[\"conv2d_layers\"][\"conv2d_filters_2\"],\n",
    "                               params[\"conv2d_layers\"][\"conv2d_kernel_size_2\"],\n",
    "                               strides=params[\"conv2d_layers\"][\"conv2d_strides_2\"],\n",
    "                               kernel_regularizer=regularizers.l2(params[\"conv2d_layers\"][\"kernel_regularizer_2\"]),\n",
    "                               padding='same',activation=\"relu\", use_bias=True,\n",
    "                               kernel_initializer='glorot_uniform')\n",
    "        model.add(conv2d_layer2)\n",
    "        \n",
    "        if params[\"conv2d_layers\"]['conv2d_mp_2'] > 1:\n",
    "            model.add(MaxPool2D(pool_size=params[\"conv2d_layers\"]['conv2d_mp_2']))\n",
    "        \n",
    "        model.add(Dropout(params['conv2d_layers']['conv2d_do_2']))\n",
    "\n",
    "    model.add(Flatten())\n",
    "\n",
    "    model.add(Dense(params['dense_layers'][\"dense_nodes_1\"], activation='relu'))\n",
    "    model.add(Dropout(params['dense_layers']['dense_do_1']))\n",
    "\n",
    "    if params['dense_layers'][\"layers\"] == 'two':\n",
    "        model.add(Dense(params['dense_layers'][\"dense_nodes_2\"], activation='relu', \n",
    "                        kernel_regularizer=params['dense_layers'][\"kernel_regularizer_1\"]))\n",
    "        model.add(Dropout(params['dense_layers']['dense_do_2']))\n",
    "\n",
    "    model.add(Dense(3, activation='softmax'))\n",
    "    \n",
    "    if params[\"optimizer\"] == 'rmsprop':\n",
    "        optimizer = optimizers.RMSprop(lr=params[\"lr\"])\n",
    "    elif params[\"optimizer\"] == 'sgd':\n",
    "        optimizer = optimizers.SGD(lr=params[\"lr\"], decay=1e-6, momentum=0.9, nesterov=True)\n",
    "    elif params[\"optimizer\"] == 'adam':\n",
    "        optimizer = optimizers.Adam(learning_rate=params[\"lr\"], beta_1=0.9, beta_2=0.999, amsgrad=False)\n",
    "    \n",
    "    model.compile(loss='categorical_crossentropy', optimizer=optimizer, metrics=['accuracy', f1_metric])\n",
    "    \n",
    "    return model\n",
    "\n",
    "def check_baseline(pred, y_test):\n",
    "    print(\"size of test set\", len(y_test))\n",
    "    e = np.equal(pred, y_test)\n",
    "    print(\"TP class counts\", np.unique(y_test[e], return_counts=True))\n",
    "    print(\"True class counts\", np.unique(y_test, return_counts=True))\n",
    "    print(\"Pred class counts\", np.unique(pred, return_counts=True))\n",
    "    holds = np.unique(y_test, return_counts=True)[1][2]  # number 'hold' predictions\n",
    "    print(\"baseline acc:\", (holds/len(y_test)*100))\n",
    "    "
   ]
  },
  {
   "cell_type": "code",
   "execution_count": 80,
   "id": "ac9c3fe5-63da-4c56-9a8f-cc20a4903342",
   "metadata": {},
   "outputs": [
    {
     "data": {
      "text/html": [
       "<div>\n",
       "<style scoped>\n",
       "    .dataframe tbody tr th:only-of-type {\n",
       "        vertical-align: middle;\n",
       "    }\n",
       "\n",
       "    .dataframe tbody tr th {\n",
       "        vertical-align: top;\n",
       "    }\n",
       "\n",
       "    .dataframe thead th {\n",
       "        text-align: right;\n",
       "    }\n",
       "</style>\n",
       "<table border=\"1\" class=\"dataframe\">\n",
       "  <thead>\n",
       "    <tr style=\"text-align: right;\">\n",
       "      <th></th>\n",
       "      <th>timestamp</th>\n",
       "      <th>open</th>\n",
       "      <th>high</th>\n",
       "      <th>low</th>\n",
       "      <th>close</th>\n",
       "      <th>adjusted_close</th>\n",
       "      <th>volume</th>\n",
       "      <th>rsi_6</th>\n",
       "      <th>rsi_7</th>\n",
       "      <th>rsi_8</th>\n",
       "      <th>...</th>\n",
       "      <th>eom_19</th>\n",
       "      <th>eom_20</th>\n",
       "      <th>eom_21</th>\n",
       "      <th>eom_22</th>\n",
       "      <th>eom_23</th>\n",
       "      <th>eom_24</th>\n",
       "      <th>eom_25</th>\n",
       "      <th>eom_26</th>\n",
       "      <th>volume_delta</th>\n",
       "      <th>labels</th>\n",
       "    </tr>\n",
       "  </thead>\n",
       "  <tbody>\n",
       "    <tr>\n",
       "      <th>0</th>\n",
       "      <td>2017-05-17</td>\n",
       "      <td>122.20</td>\n",
       "      <td>123.07</td>\n",
       "      <td>120.34</td>\n",
       "      <td>120.45</td>\n",
       "      <td>120.45</td>\n",
       "      <td>1570846</td>\n",
       "      <td>40.277319</td>\n",
       "      <td>38.254507</td>\n",
       "      <td>44.607843</td>\n",
       "      <td>...</td>\n",
       "      <td>-184.219204</td>\n",
       "      <td>-184.219204</td>\n",
       "      <td>-184.219204</td>\n",
       "      <td>-184.219204</td>\n",
       "      <td>-184.219204</td>\n",
       "      <td>-184.219204</td>\n",
       "      <td>-184.219204</td>\n",
       "      <td>-184.219204</td>\n",
       "      <td>-18042.0</td>\n",
       "      <td>2</td>\n",
       "    </tr>\n",
       "    <tr>\n",
       "      <th>1</th>\n",
       "      <td>2017-05-18</td>\n",
       "      <td>120.86</td>\n",
       "      <td>121.03</td>\n",
       "      <td>119.41</td>\n",
       "      <td>120.40</td>\n",
       "      <td>120.40</td>\n",
       "      <td>1452341</td>\n",
       "      <td>43.884892</td>\n",
       "      <td>43.740663</td>\n",
       "      <td>40.753997</td>\n",
       "      <td>...</td>\n",
       "      <td>-165.642917</td>\n",
       "      <td>-165.642917</td>\n",
       "      <td>-165.642917</td>\n",
       "      <td>-165.642917</td>\n",
       "      <td>-165.642917</td>\n",
       "      <td>-165.642917</td>\n",
       "      <td>-165.642917</td>\n",
       "      <td>-165.642917</td>\n",
       "      <td>-118505.0</td>\n",
       "      <td>1</td>\n",
       "    </tr>\n",
       "    <tr>\n",
       "      <th>2</th>\n",
       "      <td>2017-05-19</td>\n",
       "      <td>121.01</td>\n",
       "      <td>121.21</td>\n",
       "      <td>120.19</td>\n",
       "      <td>120.96</td>\n",
       "      <td>120.96</td>\n",
       "      <td>1756304</td>\n",
       "      <td>49.199608</td>\n",
       "      <td>49.865664</td>\n",
       "      <td>49.597424</td>\n",
       "      <td>...</td>\n",
       "      <td>27.876723</td>\n",
       "      <td>27.876723</td>\n",
       "      <td>27.876723</td>\n",
       "      <td>27.876723</td>\n",
       "      <td>27.876723</td>\n",
       "      <td>27.876723</td>\n",
       "      <td>27.876723</td>\n",
       "      <td>27.876723</td>\n",
       "      <td>303963.0</td>\n",
       "      <td>2</td>\n",
       "    </tr>\n",
       "    <tr>\n",
       "      <th>3</th>\n",
       "      <td>2017-05-22</td>\n",
       "      <td>121.60</td>\n",
       "      <td>122.84</td>\n",
       "      <td>121.22</td>\n",
       "      <td>122.68</td>\n",
       "      <td>122.68</td>\n",
       "      <td>1410538</td>\n",
       "      <td>64.434060</td>\n",
       "      <td>61.205821</td>\n",
       "      <td>61.489475</td>\n",
       "      <td>...</td>\n",
       "      <td>152.750227</td>\n",
       "      <td>152.750227</td>\n",
       "      <td>152.750227</td>\n",
       "      <td>152.750227</td>\n",
       "      <td>152.750227</td>\n",
       "      <td>152.750227</td>\n",
       "      <td>152.750227</td>\n",
       "      <td>152.750227</td>\n",
       "      <td>-345766.0</td>\n",
       "      <td>2</td>\n",
       "    </tr>\n",
       "    <tr>\n",
       "      <th>4</th>\n",
       "      <td>2017-05-23</td>\n",
       "      <td>122.86</td>\n",
       "      <td>123.07</td>\n",
       "      <td>121.80</td>\n",
       "      <td>122.14</td>\n",
       "      <td>122.14</td>\n",
       "      <td>1100589</td>\n",
       "      <td>56.994161</td>\n",
       "      <td>57.822278</td>\n",
       "      <td>55.348280</td>\n",
       "      <td>...</td>\n",
       "      <td>46.734067</td>\n",
       "      <td>46.734067</td>\n",
       "      <td>46.734067</td>\n",
       "      <td>46.734067</td>\n",
       "      <td>46.734067</td>\n",
       "      <td>46.734067</td>\n",
       "      <td>46.734067</td>\n",
       "      <td>46.734067</td>\n",
       "      <td>-309949.0</td>\n",
       "      <td>2</td>\n",
       "    </tr>\n",
       "  </tbody>\n",
       "</table>\n",
       "<p>5 rows × 450 columns</p>\n",
       "</div>"
      ],
      "text/plain": [
       "    timestamp    open    high     low   close  adjusted_close   volume  \\\n",
       "0  2017-05-17  122.20  123.07  120.34  120.45          120.45  1570846   \n",
       "1  2017-05-18  120.86  121.03  119.41  120.40          120.40  1452341   \n",
       "2  2017-05-19  121.01  121.21  120.19  120.96          120.96  1756304   \n",
       "3  2017-05-22  121.60  122.84  121.22  122.68          122.68  1410538   \n",
       "4  2017-05-23  122.86  123.07  121.80  122.14          122.14  1100589   \n",
       "\n",
       "       rsi_6      rsi_7      rsi_8  ...      eom_19      eom_20      eom_21  \\\n",
       "0  40.277319  38.254507  44.607843  ... -184.219204 -184.219204 -184.219204   \n",
       "1  43.884892  43.740663  40.753997  ... -165.642917 -165.642917 -165.642917   \n",
       "2  49.199608  49.865664  49.597424  ...   27.876723   27.876723   27.876723   \n",
       "3  64.434060  61.205821  61.489475  ...  152.750227  152.750227  152.750227   \n",
       "4  56.994161  57.822278  55.348280  ...   46.734067   46.734067   46.734067   \n",
       "\n",
       "       eom_22      eom_23      eom_24      eom_25      eom_26  volume_delta  \\\n",
       "0 -184.219204 -184.219204 -184.219204 -184.219204 -184.219204      -18042.0   \n",
       "1 -165.642917 -165.642917 -165.642917 -165.642917 -165.642917     -118505.0   \n",
       "2   27.876723   27.876723   27.876723   27.876723   27.876723      303963.0   \n",
       "3  152.750227  152.750227  152.750227  152.750227  152.750227     -345766.0   \n",
       "4   46.734067   46.734067   46.734067   46.734067   46.734067     -309949.0   \n",
       "\n",
       "   labels  \n",
       "0       2  \n",
       "1       1  \n",
       "2       2  \n",
       "3       2  \n",
       "4       2  \n",
       "\n",
       "[5 rows x 450 columns]"
      ]
     },
     "metadata": {},
     "output_type": "display_data"
    },
    {
     "name": "stdout",
     "output_type": "stream",
     "text": [
      "Total number of features 447\n",
      "train_split = 0.8\n",
      "Shape of x, y train/cv/test (748, 447) (748,) (187, 447) (187,) (234, 447) (234,)\n"
     ]
    },
    {
     "data": {
      "text/plain": [
       "SelectKBest(k=320)"
      ]
     },
     "execution_count": 80,
     "metadata": {},
     "output_type": "execute_result"
    },
    {
     "name": "stdout",
     "output_type": "stream",
     "text": [
      "('open', 'high', 'low', 'close', 'adjusted_close', 'volume', 'rsi_6', 'rsi_7', 'rsi_8', 'rsi_9', 'rsi_10', 'rsi_11', 'rsi_12', 'rsi_13', 'rsi_14', 'rsi_15', 'rsi_16', 'rsi_17', 'rsi_18', 'rsi_19', 'rsi_20', 'rsi_21', 'rsi_22', 'rsi_23', 'rsi_24', 'rsi_25', 'rsi_26', 'wr_6', 'wr_7', 'wr_8', 'wr_9', 'wr_10', 'wr_11', 'wr_12', 'wr_13', 'wr_14', 'wr_15', 'wr_16', 'wr_17', 'wr_18', 'wr_19', 'wr_20', 'wr_21', 'wr_22', 'wr_23', 'wr_24', 'wr_25', 'wr_26', 'mfi_6', 'mfi_7', 'mfi_8', 'mfi_9', 'mfi_10', 'mfi_11', 'mfi_12', 'mfi_13', 'mfi_14', 'mfi_15', 'mfi_16', 'mfi_17', 'mfi_18', 'mfi_19', 'mfi_20', 'mfi_21', 'mfi_22', 'mfi_23', 'mfi_24', 'mfi_25', 'mfi_26', 'roc_6', 'roc_7', 'roc_8', 'roc_9', 'roc_10', 'roc_11', 'roc_12', 'roc_13', 'roc_14', 'roc_15', 'roc_16', 'roc_17', 'roc_18', 'roc_19', 'roc_20', 'roc_21', 'roc_22', 'roc_23', 'roc_24', 'roc_25', 'roc_26', 'cmf_6', 'cmf_7', 'cmf_8', 'cmf_9', 'cmf_10', 'cmf_11', 'cmf_12', 'cmf_13', 'cmf_14', 'cmf_15', 'cmf_16', 'cmf_17', 'cmf_18', 'cmf_19', 'cmf_20', 'cmf_21', 'cmf_22', 'cmf_23', 'cmf_24', 'cmf_25', 'cmf_26', 'cmo_6', 'cmo_7', 'cmo_8', 'cmo_9', 'cmo_10', 'cmo_11', 'cmo_12', 'cmo_13', 'cmo_14', 'cmo_15', 'cmo_16', 'cmo_17', 'cmo_18', 'cmo_19', 'cmo_20', 'cmo_21', 'cmo_22', 'cmo_23', 'cmo_24', 'cmo_25', 'cmo_26', 'close_sma_6', 'close_sma_7', 'close_sma_8', 'close_sma_9', 'close_sma_10', 'close_sma_11', 'open_sma_6', 'open_sma_7', 'open_sma_8', 'ema_6', 'ema_7', 'ema_8', 'ema_9', 'ema_10', 'ema_11', 'ema_12', 'ema_13', 'ema_14', 'ema_15', 'wma_6', 'wma_7', 'wma_8', 'wma_9', 'wma_10', 'wma_11', 'wma_12', 'wma_13', 'wma_14', 'wma_15', 'wma_16', 'wma_17', 'wma_18', 'hma_0', 'hma_1', 'hma_2', 'hma_3', 'hma_4', 'hma_5', 'hma_6', 'hma_7', 'hma_8', 'hma_9', 'hma_10', 'hma_11', 'hma_12', 'hma_13', 'hma_14', 'hma_15', 'hma_16', 'hma_17', 'hma_18', 'hma_19', 'hma_20', 'trix_6', 'trix_7', 'trix_8', 'trix_9', 'trix_10', 'trix_11', 'trix_12', 'trix_13', 'trix_14', 'cci_6', 'cci_7', 'cci_8', 'cci_9', 'cci_10', 'cci_11', 'cci_12', 'cci_13', 'cci_14', 'cci_15', 'cci_16', 'cci_17', 'cci_18', 'cci_19', 'cci_20', 'cci_21', 'cci_22', 'cci_23', 'cci_24', 'cci_25', 'cci_26', 'dpo_6', 'dpo_7', 'dpo_8', 'dpo_9', 'dpo_10', 'dpo_11', 'dpo_14', 'dpo_15', 'dpo_16', 'dpo_18', 'dpo_20', 'dpo_21', 'dpo_22', 'dpo_24', 'dpo_25', 'kst_6', 'kst_7', 'kst_8', 'kst_9', 'kst_10', 'kst_11', 'kst_12', 'kst_13', 'kst_14', 'kst_15', 'kst_16', 'kst_17', 'kst_18', 'kst_19', 'kst_20', 'kst_21', 'kst_22', 'kst_23', 'kst_24', 'kst_25', 'kst_26', 'bb_6', 'bb_7', 'bb_8', 'bb_9', 'bb_10', 'bb_11', 'fi_6', 'fi_7', 'fi_8', 'fi_9', 'fi_10', 'fi_11', 'fi_12', 'fi_13', 'fi_14', 'fi_15', 'fi_16', 'fi_17', 'fi_18', 'fi_19', 'fi_20', 'fi_21', 'fi_22', 'fi_23', 'fi_24', 'fi_25', 'fi_26', 'rsv_6', 'kdjk_6', 'rsv_7', 'kdjk_7', 'rsv_8', 'kdjk_8', 'rsv_9', 'kdjk_9', 'rsv_10', 'kdjk_10', 'rsv_11', 'kdjk_11', 'rsv_12', 'kdjk_12', 'rsv_13', 'kdjk_13', 'rsv_14', 'kdjk_14', 'rsv_15', 'kdjk_15', 'rsv_16', 'kdjk_16', 'rsv_17', 'kdjk_17', 'rsv_18', 'kdjk_18', 'rsv_19', 'kdjk_19', 'rsv_20', 'kdjk_20', 'rsv_21', 'kdjk_21', 'rsv_22', 'kdjk_22', 'rsv_23', 'kdjk_23', 'rsv_24', 'kdjk_24', 'rsv_25', 'kdjk_25', 'rsv_26', 'kdjk_26')\n",
      "[  0   1   2   3   4   5   6   7   8   9  10  11  12  13  14  15  16  17\n",
      "  18  19  20  21  22  23  24  25  26  27  28  29  30  31  32  33  34  35\n",
      "  36  37  38  39  40  41  42  43  44  45  46  47  48  49  50  51  52  53\n",
      "  54  55  56  57  58  59  60  61  62  63  64  65  66  67  68  69  70  71\n",
      "  72  73  74  75  76  77  78  79  80  81  82  83  84  85  86  87  88  89\n",
      "  90  91  92  93  94  95  96  97  98  99 100 101 102 103 104 105 106 107\n",
      " 108 109 110 111 112 113 114 115 116 117 118 119 120 121 122 123 124 125\n",
      " 126 127 128 129 130 131 132 133 134 135 136 137 153 154 155 174 175 176\n",
      " 177 178 179 180 181 182 183 195 196 197 198 199 200 201 202 203 204 205\n",
      " 206 207 216 217 218 219 220 221 222 223 224 225 226 227 228 229 230 231\n",
      " 232 233 234 235 236 237 238 239 240 241 242 243 244 245 258 259 260 261\n",
      " 262 263 264 265 266 267 268 269 270 271 272 273 274 275 276 277 278 279\n",
      " 280 281 282 283 284 287 288 289 291 293 294 295 297 298 300 301 302 303\n",
      " 304 305 306 307 308 309 310 311 312 313 314 315 316 317 318 319 320 342\n",
      " 343 344 345 346 347 363 364 365 366 367 368 369 370 371 372 373 374 375\n",
      " 376 377 378 379 380 381 382 383 384 385 386 387 388 389 390 391 392 393\n",
      " 394 395 396 397 398 399 400 401 402 403 404 405 406 407 408 409 410 411\n",
      " 412 413 414 415 416 417 418 419 420 421 422 423 424 425]\n",
      "****************************************\n"
     ]
    },
    {
     "data": {
      "text/plain": [
       "SelectKBest(k=320,\n",
       "            score_func=<function mutual_info_classif at 0x000001A05FF4FCA8>)"
      ]
     },
     "execution_count": 80,
     "metadata": {},
     "output_type": "execute_result"
    },
    {
     "name": "stdout",
     "output_type": "stream",
     "text": [
      "320 ('open', 'rsi_6', 'rsi_7', 'rsi_8', 'rsi_9', 'rsi_10', 'rsi_11', 'rsi_12', 'rsi_13', 'rsi_14', 'rsi_15', 'rsi_16', 'rsi_17', 'rsi_18', 'rsi_19', 'rsi_20', 'rsi_21', 'rsi_22', 'rsi_23', 'rsi_24', 'rsi_25', 'rsi_26', 'wr_6', 'wr_7', 'wr_8', 'wr_9', 'wr_10', 'wr_11', 'wr_12', 'wr_13', 'wr_14', 'wr_15', 'wr_16', 'wr_17', 'wr_18', 'wr_19', 'wr_20', 'wr_21', 'wr_22', 'wr_23', 'wr_24', 'wr_25', 'wr_26', 'mfi_6', 'mfi_7', 'mfi_8', 'mfi_9', 'mfi_10', 'mfi_11', 'mfi_12', 'mfi_13', 'mfi_14', 'mfi_15', 'mfi_16', 'mfi_17', 'mfi_18', 'mfi_19', 'mfi_20', 'mfi_21', 'mfi_22', 'mfi_23', 'mfi_24', 'mfi_26', 'roc_6', 'roc_7', 'roc_8', 'roc_9', 'roc_10', 'roc_11', 'roc_12', 'roc_13', 'roc_14', 'roc_15', 'roc_16', 'roc_17', 'roc_18', 'roc_19', 'roc_20', 'roc_21', 'roc_22', 'roc_23', 'roc_24', 'roc_25', 'roc_26', 'cmf_6', 'cmf_7', 'cmf_9', 'cmf_11', 'cmf_12', 'cmf_13', 'cmf_14', 'cmf_15', 'cmf_16', 'cmf_17', 'cmf_19', 'cmf_20', 'cmf_21', 'cmf_24', 'cmf_25', 'cmf_26', 'cmo_6', 'cmo_7', 'cmo_8', 'cmo_9', 'cmo_10', 'cmo_11', 'cmo_12', 'cmo_13', 'cmo_14', 'cmo_15', 'cmo_16', 'cmo_17', 'cmo_18', 'cmo_19', 'cmo_20', 'cmo_21', 'cmo_22', 'cmo_23', 'cmo_24', 'cmo_25', 'cmo_26', 'close_sma_10', 'close_sma_21', 'close_sma_24', 'open_sma_8', 'open_sma_19', 'open_sma_20', 'open_sma_22', 'wma_26', 'trix_6', 'trix_7', 'trix_8', 'trix_13', 'trix_14', 'trix_21', 'cci_6', 'cci_7', 'cci_8', 'cci_9', 'cci_10', 'cci_11', 'cci_12', 'cci_13', 'cci_14', 'cci_15', 'cci_16', 'cci_17', 'cci_18', 'cci_19', 'cci_20', 'cci_21', 'cci_22', 'cci_23', 'cci_24', 'cci_25', 'cci_26', 'dpo_6', 'dpo_7', 'dpo_8', 'dpo_9', 'dpo_10', 'dpo_11', 'dpo_12', 'dpo_15', 'dpo_18', 'dpo_19', 'dpo_20', 'dpo_21', 'dpo_22', 'dpo_23', 'dpo_24', 'dpo_25', 'dpo_26', 'kst_6', 'kst_7', 'kst_8', 'kst_9', 'kst_10', 'kst_11', 'kst_12', 'kst_13', 'kst_14', 'kst_15', 'kst_16', 'kst_17', 'kst_18', 'kst_19', 'kst_20', 'kst_21', 'kst_22', 'kst_23', 'kst_24', 'kst_25', 'kst_26', 'dmi_6', 'dmi_7', 'dmi_8', 'dmi_9', 'dmi_10', 'dmi_11', 'dmi_12', 'dmi_13', 'dmi_14', 'dmi_15', 'dmi_16', 'dmi_17', 'dmi_18', 'dmi_19', 'dmi_20', 'dmi_21', 'dmi_22', 'dmi_23', 'dmi_24', 'dmi_25', 'dmi_26', 'bb_6', 'bb_7', 'bb_8', 'bb_9', 'bb_10', 'bb_11', 'bb_12', 'bb_13', 'bb_14', 'bb_15', 'bb_16', 'bb_17', 'bb_18', 'bb_19', 'bb_20', 'bb_21', 'bb_22', 'bb_23', 'bb_24', 'bb_25', 'bb_26', 'fi_6', 'fi_7', 'fi_8', 'fi_9', 'fi_10', 'fi_11', 'fi_12', 'fi_13', 'fi_14', 'fi_15', 'fi_16', 'fi_17', 'fi_18', 'fi_19', 'fi_20', 'fi_21', 'fi_22', 'fi_23', 'fi_24', 'fi_25', 'fi_26', 'rsv_6', 'kdjk_6', 'rsv_7', 'kdjk_7', 'rsv_8', 'kdjk_8', 'rsv_9', 'kdjk_9', 'rsv_10', 'kdjk_10', 'rsv_11', 'kdjk_11', 'rsv_12', 'kdjk_12', 'rsv_13', 'kdjk_13', 'rsv_14', 'kdjk_14', 'rsv_15', 'kdjk_15', 'rsv_16', 'kdjk_16', 'rsv_17', 'kdjk_17', 'rsv_18', 'kdjk_18', 'rsv_19', 'kdjk_19', 'rsv_20', 'kdjk_20', 'rsv_21', 'kdjk_21', 'rsv_22', 'kdjk_22', 'rsv_23', 'kdjk_23', 'rsv_24', 'kdjk_24', 'rsv_25', 'kdjk_25', 'rsv_26', 'kdjk_26', 'eom_6', 'eom_7', 'eom_8', 'eom_9', 'eom_10', 'eom_11', 'eom_12', 'eom_13', 'eom_14', 'eom_15', 'eom_16', 'eom_17', 'eom_18', 'eom_19', 'eom_20', 'eom_21', 'eom_22', 'eom_23', 'eom_24', 'eom_25', 'eom_26')\n",
      "[  0   6   7   8   9  10  11  12  13  14  15  16  17  18  19  20  21  22\n",
      "  23  24  25  26  27  28  29  30  31  32  33  34  35  36  37  38  39  40\n",
      "  41  42  43  44  45  46  47  48  49  50  51  52  53  54  55  56  57  58\n",
      "  59  60  61  62  63  64  65  66  68  69  70  71  72  73  74  75  76  77\n",
      "  78  79  80  81  82  83  84  85  86  87  88  89  90  91  93  95  96  97\n",
      "  98  99 100 101 103 104 105 108 109 110 111 112 113 114 115 116 117 118\n",
      " 119 120 121 122 123 124 125 126 127 128 129 130 131 136 147 150 155 166\n",
      " 167 169 215 237 238 239 244 245 252 258 259 260 261 262 263 264 265 266\n",
      " 267 268 269 270 271 272 273 274 275 276 277 278 279 280 281 282 283 284\n",
      " 285 288 291 292 293 294 295 296 297 298 299 300 301 302 303 304 305 306\n",
      " 307 308 309 310 311 312 313 314 315 316 317 318 319 320 321 322 323 324\n",
      " 325 326 327 328 329 330 331 332 333 334 335 336 337 338 339 340 341 342\n",
      " 343 344 345 346 347 348 349 350 351 352 353 354 355 356 357 358 359 360\n",
      " 361 362 363 364 365 366 367 368 369 370 371 372 373 374 375 376 377 378\n",
      " 379 380 381 382 383 384 385 386 387 388 389 390 391 392 393 394 395 396\n",
      " 397 398 399 400 401 402 403 404 405 406 407 408 409 410 411 412 413 414\n",
      " 415 416 417 418 419 420 421 422 423 424 425 426 427 428 429 430 431 432\n",
      " 433 434 435 436 437 438 439 440 441 442 443 444 445 446]\n",
      "common selected featues 252 ['kdjk_24', 'wr_11', 'kst_15', 'roc_23', 'wr_19', 'cmo_14', 'rsi_9', 'close_sma_10', 'wr_23', 'cci_21', 'cci_17', 'kdjk_22', 'cmf_12', 'trix_6', 'rsv_22', 'dpo_22', 'kst_7', 'cmo_7', 'bb_9', 'cci_20', 'kdjk_15', 'cmo_21', 'cmf_19', 'wr_15', 'mfi_10', 'rsv_13', 'cci_7', 'trix_7', 'fi_24', 'kdjk_9', 'rsv_10', 'mfi_9', 'kst_18', 'mfi_26', 'cmf_7', 'roc_8', 'bb_8', 'kst_8', 'rsi_12', 'cci_26', 'dpo_6', 'trix_8', 'dpo_20', 'wr_16', 'cmf_9', 'kdjk_6', 'roc_14', 'kst_14', 'roc_11', 'fi_13', 'kst_10', 'rsi_22', 'cci_9', 'wr_26', 'bb_10', 'roc_24', 'wr_24', 'mfi_14', 'wr_8', 'rsi_24', 'cci_16', 'cci_19', 'fi_20', 'rsv_26', 'fi_11', 'rsi_7', 'cmo_13', 'rsv_21', 'cmf_14', 'fi_14', 'rsi_16', 'cmo_12', 'kst_20', 'cmf_20', 'roc_6', 'fi_21', 'fi_23', 'cmo_9', 'wr_9', 'wr_14', 'cmo_11', 'roc_22', 'fi_10', 'cci_18', 'cmo_15', 'dpo_24', 'mfi_11', 'kdjk_10', 'mfi_12', 'rsv_15', 'rsv_17', 'rsi_23', 'cci_6', 'kdjk_7', 'fi_12', 'open', 'cci_24', 'roc_17', 'cmo_18', 'wr_18', 'fi_25', 'fi_19', 'mfi_22', 'cci_11', 'cci_8', 'cci_15', 'kdjk_18', 'kdjk_25', 'rsv_8', 'cmo_26', 'dpo_11', 'kst_16', 'dpo_21', 'roc_18', 'kdjk_26', 'rsv_16', 'rsi_25', 'kst_9', 'cci_25', 'cmf_21', 'rsv_6', 'kdjk_14', 'rsv_19', 'kst_25', 'mfi_23', 'cci_13', 'fi_9', 'wr_20', 'kst_17', 'rsi_21', 'cmf_15', 'trix_14', 'rsv_11', 'rsv_18', 'fi_6', 'roc_26', 'rsi_17', 'cmf_17', 'rsi_13', 'rsi_8', 'wr_13', 'cmo_16', 'open_sma_8', 'kst_24', 'kdjk_11', 'mfi_21', 'kdjk_16', 'rsi_19', 'wr_6', 'rsv_9', 'rsv_24', 'rsv_12', 'mfi_7', 'dpo_25', 'rsv_25', 'cmf_16', 'kst_22', 'bb_6', 'cmf_24', 'kst_6', 'wr_7', 'roc_21', 'rsi_18', 'fi_17', 'kst_12', 'wr_21', 'mfi_19', 'cmo_22', 'kst_26', 'rsi_11', 'kdjk_20', 'kdjk_21', 'bb_7', 'roc_25', 'wr_12', 'rsi_15', 'cci_22', 'fi_7', 'rsi_26', 'dpo_7', 'mfi_6', 'rsi_10', 'roc_15', 'bb_11', 'rsv_7', 'cmo_24', 'wr_10', 'cmo_8', 'roc_19', 'wr_22', 'rsv_23', 'kdjk_17', 'cci_12', 'dpo_15', 'dpo_10', 'roc_10', 'cmf_6', 'mfi_16', 'kdjk_8', 'rsv_20', 'rsi_14', 'dpo_8', 'kdjk_19', 'cmo_23', 'cmo_19', 'dpo_9', 'roc_12', 'roc_20', 'trix_13', 'cmo_20', 'wr_17', 'mfi_17', 'roc_13', 'mfi_20', 'mfi_24', 'rsi_20', 'kdjk_13', 'cmo_25', 'kst_13', 'fi_26', 'fi_18', 'wr_25', 'fi_8', 'cmf_11', 'roc_16', 'kdjk_12', 'rsv_14', 'mfi_8', 'kst_23', 'mfi_13', 'kdjk_23', 'cmf_25', 'cmo_10', 'fi_16', 'dpo_18', 'rsi_6', 'mfi_18', 'cmo_6', 'cmf_13', 'kst_19', 'cci_10', 'roc_9', 'fi_15', 'cci_14', 'mfi_15', 'cmf_26', 'cmo_17', 'kst_21', 'fi_22', 'cci_23', 'roc_7', 'kst_11']\n",
      "[0, 7, 8, 9, 10, 11, 12, 13, 14, 15, 16, 17, 18, 19, 20, 21, 22, 23, 24, 25, 26, 27, 28, 29, 30, 31, 32, 33, 34, 35, 36, 37, 38, 39, 40, 41, 42, 43, 44, 45, 46, 47, 48, 49, 51, 52, 53, 54, 56, 58, 59, 61, 62, 63, 64, 65, 66, 68, 69, 71, 73, 74, 75, 76, 77, 78, 79, 80, 81, 82, 83, 84, 85, 86, 87, 88, 89, 90, 91, 93, 95, 96, 98, 99, 100, 101, 103, 104, 105, 108, 112, 113, 114, 116, 117, 118, 119, 120, 121, 123, 124, 125, 126, 127, 128, 129, 130, 131, 136, 155, 237, 238, 239, 244, 245, 258, 259, 260, 261, 263, 264, 265, 267, 268, 269, 270, 271, 272, 273, 274, 276, 277, 278, 279, 280, 281, 282, 283, 284, 288, 293, 294, 295, 297, 298, 300, 301, 302, 303, 304, 306, 307, 308, 309, 310, 311, 312, 314, 316, 318, 319, 320, 342, 343, 344, 345, 346, 347, 363, 364, 365, 366, 367, 368, 369, 370, 371, 374, 375, 376, 377, 378, 380, 381, 382, 383, 384, 385, 386, 387, 388, 389, 390, 391, 392, 393, 394, 395, 396, 398, 399, 401, 402, 403, 404, 405, 406, 407, 408, 409, 410, 411, 412, 413, 414, 415, 416, 417, 418, 420, 421, 422, 423, 424, 425]\n",
      "Shape of x, y train/cv/test (748, 225) (748,) (187, 225) (187,) (234, 225) (234,)\n",
      "percentage of class 0 = 5.481283422459892, class 1 = 5.614973262032086\n",
      "real class weights are [6.08130081 5.93650794 0.37493734] [0 1 2]\n",
      "value_counts (array([0, 1, 2]), array([ 41,  42, 665], dtype=int64))\n",
      "Test sample_weights\n",
      "[2 2 2 2 2 2 2 2 2 2 2 2 2 2 2 2 2 2 2 2 0 2 1 2 2 2 2 2 2 2]\n",
      "[0.37493734 0.37493734 0.37493734 0.37493734 0.37493734 0.37493734\n",
      " 0.37493734 0.37493734 0.37493734 0.37493734 0.37493734 0.37493734\n",
      " 0.37493734 0.37493734 0.37493734 0.37493734 0.37493734 0.37493734\n",
      " 0.37493734 0.37493734 6.08130081 0.37493734 5.93650794 0.37493734\n",
      " 0.37493734 0.37493734 0.37493734 0.37493734 0.37493734 0.37493734]\n",
      "y_train (748, 3)\n",
      "final shape of x, y train/test (748, 15, 15, 3) (748, 3) (234, 15, 15, 3) (234, 3)\n"
     ]
    },
    {
     "data": {
      "text/plain": [
       "<AxesSubplot:>"
      ]
     },
     "execution_count": 80,
     "metadata": {},
     "output_type": "execute_result"
    },
    {
     "data": {
      "text/plain": [
       "(0.0, 1.0, 0.0, 1.0)"
      ]
     },
     "execution_count": 80,
     "metadata": {},
     "output_type": "execute_result"
    },
    {
     "data": {
      "text/plain": [
       "Text(0.5, 1.0, 'image_268_class_2')"
      ]
     },
     "execution_count": 80,
     "metadata": {},
     "output_type": "execute_result"
    },
    {
     "data": {
      "text/plain": [
       "<matplotlib.image.AxesImage at 0x1a069bf54c8>"
      ]
     },
     "execution_count": 80,
     "metadata": {},
     "output_type": "execute_result"
    },
    {
     "data": {
      "text/plain": [
       "<AxesSubplot:>"
      ]
     },
     "execution_count": 80,
     "metadata": {},
     "output_type": "execute_result"
    },
    {
     "data": {
      "text/plain": [
       "(0.0, 1.0, 0.0, 1.0)"
      ]
     },
     "execution_count": 80,
     "metadata": {},
     "output_type": "execute_result"
    },
    {
     "data": {
      "text/plain": [
       "Text(0.5, 1.0, 'image_320_class_2')"
      ]
     },
     "execution_count": 80,
     "metadata": {},
     "output_type": "execute_result"
    },
    {
     "data": {
      "text/plain": [
       "<matplotlib.image.AxesImage at 0x1a0689d8408>"
      ]
     },
     "execution_count": 80,
     "metadata": {},
     "output_type": "execute_result"
    },
    {
     "data": {
      "text/plain": [
       "<AxesSubplot:>"
      ]
     },
     "execution_count": 80,
     "metadata": {},
     "output_type": "execute_result"
    },
    {
     "data": {
      "text/plain": [
       "(0.0, 1.0, 0.0, 1.0)"
      ]
     },
     "execution_count": 80,
     "metadata": {},
     "output_type": "execute_result"
    },
    {
     "data": {
      "text/plain": [
       "Text(0.5, 1.0, 'image_367_class_2')"
      ]
     },
     "execution_count": 80,
     "metadata": {},
     "output_type": "execute_result"
    },
    {
     "data": {
      "text/plain": [
       "<matplotlib.image.AxesImage at 0x1a06876a948>"
      ]
     },
     "execution_count": 80,
     "metadata": {},
     "output_type": "execute_result"
    },
    {
     "data": {
      "text/plain": [
       "<AxesSubplot:>"
      ]
     },
     "execution_count": 80,
     "metadata": {},
     "output_type": "execute_result"
    },
    {
     "data": {
      "text/plain": [
       "(0.0, 1.0, 0.0, 1.0)"
      ]
     },
     "execution_count": 80,
     "metadata": {},
     "output_type": "execute_result"
    },
    {
     "data": {
      "text/plain": [
       "Text(0.5, 1.0, 'image_591_class_2')"
      ]
     },
     "execution_count": 80,
     "metadata": {},
     "output_type": "execute_result"
    },
    {
     "data": {
      "text/plain": [
       "<matplotlib.image.AxesImage at 0x1a06a5a6448>"
      ]
     },
     "execution_count": 80,
     "metadata": {},
     "output_type": "execute_result"
    },
    {
     "data": {
      "text/plain": [
       "<AxesSubplot:>"
      ]
     },
     "execution_count": 80,
     "metadata": {},
     "output_type": "execute_result"
    },
    {
     "data": {
      "text/plain": [
       "(0.0, 1.0, 0.0, 1.0)"
      ]
     },
     "execution_count": 80,
     "metadata": {},
     "output_type": "execute_result"
    },
    {
     "data": {
      "text/plain": [
       "Text(0.5, 1.0, 'image_615_class_2')"
      ]
     },
     "execution_count": 80,
     "metadata": {},
     "output_type": "execute_result"
    },
    {
     "data": {
      "text/plain": [
       "<matplotlib.image.AxesImage at 0x1a060c59448>"
      ]
     },
     "execution_count": 80,
     "metadata": {},
     "output_type": "execute_result"
    },
    {
     "data": {
      "text/plain": [
       "<AxesSubplot:>"
      ]
     },
     "execution_count": 80,
     "metadata": {},
     "output_type": "execute_result"
    },
    {
     "data": {
      "text/plain": [
       "(0.0, 1.0, 0.0, 1.0)"
      ]
     },
     "execution_count": 80,
     "metadata": {},
     "output_type": "execute_result"
    },
    {
     "data": {
      "text/plain": [
       "Text(0.5, 1.0, 'image_397_class_0')"
      ]
     },
     "execution_count": 80,
     "metadata": {},
     "output_type": "execute_result"
    },
    {
     "data": {
      "text/plain": [
       "<matplotlib.image.AxesImage at 0x1a06d618b88>"
      ]
     },
     "execution_count": 80,
     "metadata": {},
     "output_type": "execute_result"
    },
    {
     "data": {
      "text/plain": [
       "<AxesSubplot:>"
      ]
     },
     "execution_count": 80,
     "metadata": {},
     "output_type": "execute_result"
    },
    {
     "data": {
      "text/plain": [
       "(0.0, 1.0, 0.0, 1.0)"
      ]
     },
     "execution_count": 80,
     "metadata": {},
     "output_type": "execute_result"
    },
    {
     "data": {
      "text/plain": [
       "Text(0.5, 1.0, 'image_376_class_2')"
      ]
     },
     "execution_count": 80,
     "metadata": {},
     "output_type": "execute_result"
    },
    {
     "data": {
      "text/plain": [
       "<matplotlib.image.AxesImage at 0x1a068a07bc8>"
      ]
     },
     "execution_count": 80,
     "metadata": {},
     "output_type": "execute_result"
    },
    {
     "data": {
      "text/plain": [
       "<AxesSubplot:>"
      ]
     },
     "execution_count": 80,
     "metadata": {},
     "output_type": "execute_result"
    },
    {
     "data": {
      "text/plain": [
       "(0.0, 1.0, 0.0, 1.0)"
      ]
     },
     "execution_count": 80,
     "metadata": {},
     "output_type": "execute_result"
    },
    {
     "data": {
      "text/plain": [
       "Text(0.5, 1.0, 'image_409_class_2')"
      ]
     },
     "execution_count": 80,
     "metadata": {},
     "output_type": "execute_result"
    },
    {
     "data": {
      "text/plain": [
       "<matplotlib.image.AxesImage at 0x1a0723c1b08>"
      ]
     },
     "execution_count": 80,
     "metadata": {},
     "output_type": "execute_result"
    },
    {
     "data": {
      "text/plain": [
       "<AxesSubplot:>"
      ]
     },
     "execution_count": 80,
     "metadata": {},
     "output_type": "execute_result"
    },
    {
     "data": {
      "text/plain": [
       "(0.0, 1.0, 0.0, 1.0)"
      ]
     },
     "execution_count": 80,
     "metadata": {},
     "output_type": "execute_result"
    },
    {
     "data": {
      "text/plain": [
       "Text(0.5, 1.0, 'image_195_class_0')"
      ]
     },
     "execution_count": 80,
     "metadata": {},
     "output_type": "execute_result"
    },
    {
     "data": {
      "text/plain": [
       "<matplotlib.image.AxesImage at 0x1a06d19db08>"
      ]
     },
     "execution_count": 80,
     "metadata": {},
     "output_type": "execute_result"
    },
    {
     "data": {
      "image/png": "[encoded data removed]",
      "text/plain": [
       "<Figure size 1080x1080 with 9 Axes>"
      ]
     },
     "metadata": {
      "needs_background": "light"
     },
     "output_type": "display_data"
    },
    {
     "name": "stdout",
     "output_type": "stream",
     "text": [
      "Training with params {'batch_size': 80, 'conv2d_layers': {'conv2d_do_1': 0.2, 'conv2d_filters_1': 32, 'conv2d_kernel_size_1': 3, 'conv2d_mp_1': 0, 'conv2d_strides_1': 1, 'kernel_regularizer_1': 0.0, 'conv2d_do_2': 0.3, 'conv2d_filters_2': 64, 'conv2d_kernel_size_2': 3, 'conv2d_mp_2': 2, 'conv2d_strides_2': 1, 'kernel_regularizer_2': 0.0, 'layers': 'two'}, 'dense_layers': {'dense_do_1': 0.3, 'dense_nodes_1': 128, 'kernel_regularizer_1': 0.0, 'layers': 'one'}, 'epochs': 10, 'lr': 0.001, 'optimizer': 'adam'}\n",
      "('You must install pydot (`pip install pydot`) and install graphviz (see instructions at https://graphviz.gitlab.io/download/) ', 'for plot_model/model_to_dot to work.')\n",
      "WARNING:tensorflow:`period` argument is deprecated. Please use `save_freq` to specify the frequency in number of batches seen.\n",
      "Epoch 1/10\n",
      "12/12 [==============================] - ETA: 0s - loss: 1.1132 - accuracy: 0.4291 - f1_metric: 0.2162\n",
      "Epoch 00001: val_f1_metric improved from -inf to 0.00000, saving model to .\\best_model_keras\n",
      "INFO:tensorflow:Assets written to: .\\best_model_keras\\assets\n",
      "12/12 [==============================] - 15s 947ms/step - loss: 1.1132 - accuracy: 0.4291 - f1_metric: 0.2162 - val_loss: 0.9126 - val_accuracy: 0.8663 - val_f1_metric: 0.0000e+00 - lr: 0.0010\n",
      "Epoch 2/10\n",
      "12/12 [==============================] - ETA: 0s - loss: 0.9762 - accuracy: 0.2500 - f1_metric: 0.0983\n",
      "Epoch 00002: val_f1_metric improved from 0.00000 to 0.06695, saving model to .\\best_model_keras\n",
      "INFO:tensorflow:Assets written to: .\\best_model_keras\\assets\n",
      "12/12 [==============================] - 10s 879ms/step - loss: 0.9762 - accuracy: 0.2500 - f1_metric: 0.0983 - val_loss: 1.0416 - val_accuracy: 0.4652 - val_f1_metric: 0.0670 - lr: 0.0010\n",
      "Epoch 3/10\n",
      "12/12 [==============================] - ETA: 0s - loss: 0.8668 - accuracy: 0.3422 - f1_metric: 0.1219\n",
      "Epoch 00003: val_f1_metric improved from 0.06695 to 0.10888, saving model to .\\best_model_keras\n",
      "INFO:tensorflow:Assets written to: .\\best_model_keras\\assets\n",
      "12/12 [==============================] - 8s 738ms/step - loss: 0.8668 - accuracy: 0.3422 - f1_metric: 0.1219 - val_loss: 1.1892 - val_accuracy: 0.1604 - val_f1_metric: 0.1089 - lr: 0.0010\n",
      "Epoch 4/10\n",
      "12/12 [==============================] - ETA: 0s - loss: 0.7669 - accuracy: 0.3115 - f1_metric: 0.2305\n",
      "Epoch 00004: val_f1_metric improved from 0.10888 to 0.32201, saving model to .\\best_model_keras\n",
      "INFO:tensorflow:Assets written to: .\\best_model_keras\\assets\n",
      "12/12 [==============================] - 8s 741ms/step - loss: 0.7669 - accuracy: 0.3115 - f1_metric: 0.2305 - val_loss: 0.9119 - val_accuracy: 0.4813 - val_f1_metric: 0.3220 - lr: 0.0010\n",
      "Epoch 5/10\n",
      "12/12 [==============================] - ETA: 0s - loss: 0.7483 - accuracy: 0.3663 - f1_metric: 0.2467\n",
      "Epoch 00005: val_f1_metric did not improve from 0.32201\n",
      "12/12 [==============================] - 2s 193ms/step - loss: 0.7483 - accuracy: 0.3663 - f1_metric: 0.2467 - val_loss: 1.1213 - val_accuracy: 0.2193 - val_f1_metric: 0.1071 - lr: 0.0010\n",
      "Epoch 6/10\n",
      "12/12 [==============================] - ETA: 0s - loss: 0.7173 - accuracy: 0.3409 - f1_metric: 0.2517\n",
      "Epoch 00006: val_f1_metric improved from 0.32201 to 0.36406, saving model to .\\best_model_keras\n",
      "INFO:tensorflow:Assets written to: .\\best_model_keras\\assets\n",
      "12/12 [==============================] - 9s 772ms/step - loss: 0.7173 - accuracy: 0.3409 - f1_metric: 0.2517 - val_loss: 1.0148 - val_accuracy: 0.5294 - val_f1_metric: 0.3641 - lr: 0.0010\n",
      "Epoch 7/10\n",
      "12/12 [==============================] - ETA: 0s - loss: 0.7121 - accuracy: 0.3543 - f1_metric: 0.2646\n",
      "Epoch 00007: val_f1_metric did not improve from 0.36406\n",
      "12/12 [==============================] - 2s 192ms/step - loss: 0.7121 - accuracy: 0.3543 - f1_metric: 0.2646 - val_loss: 1.0854 - val_accuracy: 0.2193 - val_f1_metric: 0.1162 - lr: 0.0010\n",
      "Epoch 8/10\n",
      "12/12 [==============================] - ETA: 0s - loss: 0.6856 - accuracy: 0.3797 - f1_metric: 0.3091\n",
      "Epoch 00008: val_f1_metric did not improve from 0.36406\n",
      "12/12 [==============================] - 3s 213ms/step - loss: 0.6856 - accuracy: 0.3797 - f1_metric: 0.3091 - val_loss: 0.9817 - val_accuracy: 0.3690 - val_f1_metric: 0.2667 - lr: 0.0010\n",
      "Epoch 9/10\n",
      "12/12 [==============================] - ETA: 0s - loss: 0.6871 - accuracy: 0.3743 - f1_metric: 0.3111\n",
      "Epoch 00009: val_f1_metric did not improve from 0.36406\n",
      "12/12 [==============================] - 3s 235ms/step - loss: 0.6871 - accuracy: 0.3743 - f1_metric: 0.3111 - val_loss: 1.0667 - val_accuracy: 0.2781 - val_f1_metric: 0.1853 - lr: 0.0010\n",
      "Epoch 10/10\n",
      "12/12 [==============================] - ETA: 0s - loss: 0.6407 - accuracy: 0.3971 - f1_metric: 0.3292\n",
      "Epoch 00010: val_f1_metric did not improve from 0.36406\n",
      "12/12 [==============================] - 3s 215ms/step - loss: 0.6407 - accuracy: 0.3971 - f1_metric: 0.3292 - val_loss: 1.0544 - val_accuracy: 0.2781 - val_f1_metric: 0.1884 - lr: 0.0010\n"
     ]
    },
    {
     "data": {
      "text/plain": [
       "<Figure size 432x288 with 0 Axes>"
      ]
     },
     "execution_count": 80,
     "metadata": {},
     "output_type": "execute_result"
    },
    {
     "data": {
      "text/plain": [
       "[<matplotlib.lines.Line2D at 0x1a060b005c8>]"
      ]
     },
     "execution_count": 80,
     "metadata": {},
     "output_type": "execute_result"
    },
    {
     "data": {
      "text/plain": [
       "[<matplotlib.lines.Line2D at 0x1a06d6e4648>]"
      ]
     },
     "execution_count": 80,
     "metadata": {},
     "output_type": "execute_result"
    },
    {
     "data": {
      "text/plain": [
       "[<matplotlib.lines.Line2D at 0x1a06a666e88>]"
      ]
     },
     "execution_count": 80,
     "metadata": {},
     "output_type": "execute_result"
    },
    {
     "data": {
      "text/plain": [
       "[<matplotlib.lines.Line2D at 0x1a060b00ac8>]"
      ]
     },
     "execution_count": 80,
     "metadata": {},
     "output_type": "execute_result"
    },
    {
     "data": {
      "text/plain": [
       "Text(0.5, 1.0, 'Model loss')"
      ]
     },
     "execution_count": 80,
     "metadata": {},
     "output_type": "execute_result"
    },
    {
     "data": {
      "text/plain": [
       "Text(0, 0.5, 'Loss')"
      ]
     },
     "execution_count": 80,
     "metadata": {},
     "output_type": "execute_result"
    },
    {
     "data": {
      "text/plain": [
       "Text(0.5, 0, 'Epoch')"
      ]
     },
     "execution_count": 80,
     "metadata": {},
     "output_type": "execute_result"
    },
    {
     "data": {
      "text/plain": [
       "<matplotlib.legend.Legend at 0x1a070ed9588>"
      ]
     },
     "execution_count": 80,
     "metadata": {},
     "output_type": "execute_result"
    },
    {
     "data": {
      "image/png": "[encoded data removed]",
      "text/plain": [
       "<Figure size 432x288 with 1 Axes>"
      ]
     },
     "metadata": {
      "needs_background": "light"
     },
     "output_type": "display_data"
    },
    {
     "name": "stdout",
     "output_type": "stream",
     "text": [
      "keras evaluate= [1.0381938219070435, 0.5085470080375671, 0.44547122716903687]\n",
      "size of test set 234\n",
      "TP class counts (array([0, 1, 2], dtype=int64), array([  1,   9, 109], dtype=int64))\n",
      "True class counts (array([0, 1, 2], dtype=int64), array([ 13,   9, 212], dtype=int64))\n",
      "Pred class counts (array([0, 1, 2], dtype=int64), array([  7, 106, 121], dtype=int64))\n",
      "baseline acc: 90.5982905982906\n",
      "[[  1   0  12]\n",
      " [  0   9   0]\n",
      " [  6  97 109]]\n",
      "F1 score (weighted) 0.6046815488844474\n",
      "F1 score (macro) 0.3037254645950298\n",
      "F1 score (micro) 0.5085470085470085\n",
      "cohen's Kappa 0.04094942799101886\n",
      "Recall of class 0 = 0.08\n",
      "Recall of class 1 = 1.0\n",
      "Recall of class 2 = 0.51\n",
      "Recall avg 0.53\n"
     ]
    }
   ],
   "source": [
    "# Run ML\n",
    "for symbol in symbol_list:\n",
    "\n",
    "    if symbol == 'ACN':\n",
    "    strategy_type = 'original'\n",
    "    df = load_train_data_from_csv(symbol)\n",
    "    display(df.head())\n",
    "    \n",
    "#1 Split data into Training, Validation and Test\n",
    "    from sklearn.preprocessing import MinMaxScaler, OneHotEncoder\n",
    "    from sklearn.model_selection import train_test_split\n",
    "    from collections import Counter\n",
    "    \n",
    "    list_features = list(df.loc[:, 'open':'eom_26'].columns)\n",
    "    print('Total number of features', len(list_features))\n",
    "    \n",
    "    x_train, x_test, y_train, y_test = train_test_split(df.loc[:, 'open':'eom_26'].values, df['labels'].values, train_size=0.8, \n",
    "                                                    test_size=0.2, random_state=2, shuffle=False) #, stratify=df['labels'].values)\n",
    "    if 0.7*x_train.shape[0] < 2500:\n",
    "        train_split = 0.8\n",
    "    else:\n",
    "        train_split = 0.7\n",
    "    print('train_split =',train_split)\n",
    "    x_train, x_cv, y_train, y_cv = train_test_split(x_train, y_train, train_size=train_split, test_size=1-train_split, \n",
    "                                                random_state=2, shuffle=False) #, stratify=y_train)\n",
    "    mm_scaler = MinMaxScaler(feature_range=(0, 1)) # or StandardScaler?\n",
    "    x_train = mm_scaler.fit_transform(x_train)\n",
    "    x_cv = mm_scaler.transform(x_cv)\n",
    "    x_test = mm_scaler.transform(x_test)\n",
    "\n",
    "    x_main = x_train.copy()\n",
    "    print(\"Shape of x, y train/cv/test {} {} {} {} {} {}\".format(x_train.shape, y_train.shape, x_cv.shape, y_cv.shape, x_test.shape, y_test.shape))\n",
    "    \n",
    "    \n",
    "# train method selection - if all then add both anova and mutual info)\n",
    "    num_features = 225  # should be a perfect square\n",
    "    selection_method = 'all'\n",
    "    topk = 320 if selection_method == 'all' else num_features\n",
    "    \n",
    "    from operator import itemgetter\n",
    "    from sklearn.feature_selection import SelectKBest, f_classif, mutual_info_classif\n",
    "\n",
    "    if selection_method == 'anova' or selection_method == 'all':\n",
    "        select_k_best = SelectKBest(f_classif, k=topk)\n",
    "        if selection_method != 'all':\n",
    "            x_train = select_k_best.fit_transform(x_main, y_train)\n",
    "            x_cv = select_k_best.transform(x_cv)\n",
    "            x_test = select_k_best.transform(x_test)\n",
    "        else:\n",
    "            select_k_best.fit(x_main, y_train)\n",
    "    \n",
    "        selected_features_anova = itemgetter(*select_k_best.get_support(indices=True))(list_features)\n",
    "        print(selected_features_anova)\n",
    "        print(select_k_best.get_support(indices=True))\n",
    "        print(\"****************************************\")\n",
    "    \n",
    "    if selection_method == 'mutual_info' or selection_method == 'all':\n",
    "        select_k_best = SelectKBest(mutual_info_classif, k=topk)\n",
    "        if selection_method != 'all':\n",
    "            x_train = select_k_best.fit_transform(x_main, y_train)\n",
    "            x_cv = select_k_best.transform(x_cv)\n",
    "            x_test = select_k_best.transform(x_test)\n",
    "        else:\n",
    "            select_k_best.fit(x_main, y_train)\n",
    "\n",
    "        selected_features_mic = itemgetter(*select_k_best.get_support(indices=True))(list_features)\n",
    "        print(len(selected_features_mic), selected_features_mic)\n",
    "        print(select_k_best.get_support(indices=True))\n",
    "    \n",
    "    if selection_method == 'all':\n",
    "        common = list(set(selected_features_anova).intersection(selected_features_mic))\n",
    "        print(\"common selected featues\", len(common), common)\n",
    "        if len(common) < num_features:\n",
    "            raise Exception('number of common features found {} < {} required features. Increase \"topk variable\"'.format(len(common), num_features))\n",
    "        feat_idx = []\n",
    "        for c in common:\n",
    "            feat_idx.append(list_features.index(c))\n",
    "        feat_idx = sorted(feat_idx[0:225])\n",
    "        print(feat_idx)\n",
    "\n",
    "    if selection_method == 'all':\n",
    "        x_train = x_train[:, feat_idx]\n",
    "        x_cv = x_cv[:, feat_idx]\n",
    "        x_test = x_test[:, feat_idx]\n",
    "\n",
    "    print(\"Shape of x, y train/cv/test {} {} {} {} {} {}\".format(x_train.shape, \n",
    "                                                             y_train.shape, x_cv.shape, y_cv.shape, x_test.shape, y_test.shape))\n",
    "    \n",
    "    _labels, _counts = np.unique(y_train, return_counts=True)\n",
    "    print(\"percentage of class 0 = {}, class 1 = {}\".format(_counts[0]/len(y_train) * 100, _counts[1]/len(y_train) * 100))\n",
    "    \n",
    "    get_custom_objects().update({\"f1_metric\": f1_metric, \"f1_weighted\": f1_weighted})\n",
    "    \n",
    "    sample_weights = get_sample_weights(y_train)\n",
    "    print(\"Test sample_weights\")\n",
    "    rand_idx = np.random.randint(0, 600, 30) #KL: Reduce the size to 500\n",
    "    print(y_train[rand_idx])\n",
    "    print(sample_weights[rand_idx])\n",
    "    \n",
    "    one_hot_enc = OneHotEncoder(sparse=False, categories='auto')  # , categories='auto'\n",
    "    y_train = one_hot_enc.fit_transform(y_train.reshape(-1, 1))\n",
    "    print(\"y_train\",y_train.shape)\n",
    "    y_cv = one_hot_enc.transform(y_cv.reshape(-1, 1))\n",
    "    y_test = one_hot_enc.transform(y_test.reshape(-1, 1))\n",
    "    \n",
    "    dim = int(np.sqrt(num_features))\n",
    "    x_train = reshape_as_image(x_train, dim, dim)\n",
    "    x_cv = reshape_as_image(x_cv, dim, dim)\n",
    "    x_test = reshape_as_image(x_test, dim, dim)\n",
    "    # adding a 1-dim for channels (3)\n",
    "    x_train = np.stack((x_train,) * 3, axis=-1)\n",
    "    x_test = np.stack((x_test,) * 3, axis=-1)\n",
    "    x_cv = np.stack((x_cv,) * 3, axis=-1)\n",
    "    print(\"final shape of x, y train/test {} {} {} {}\".format(x_train.shape, y_train.shape, x_test.shape, y_test.shape))\n",
    "    \n",
    "    from matplotlib import pyplot as plt\n",
    "    %matplotlib inline\n",
    "   \n",
    "    fig = plt.figure(figsize=(15, 15))\n",
    "    columns = rows = 3\n",
    "    for i in range(1, columns*rows +1):\n",
    "        index = np.random.randint(len(x_train))\n",
    "        img = x_train[index]\n",
    "        fig.add_subplot(rows, columns, i)\n",
    "        plt.axis(\"off\")\n",
    "        plt.title('image_'+str(index)+'_class_'+str(np.argmax(y_train[index])), fontsize=10)\n",
    "        plt.subplots_adjust(wspace=0.2, hspace=0.2)\n",
    "        plt.imshow(img)\n",
    "    plt.show()\n",
    "    \n",
    "    from tensorflow.keras.models import Sequential, load_model, Model\n",
    "    from tensorflow.keras.layers import Dense, Dropout\n",
    "    from tensorflow.keras.layers import Conv2D, MaxPool2D, Flatten, LeakyReLU\n",
    "    from tensorflow.keras.callbacks import ModelCheckpoint, EarlyStopping, ReduceLROnPlateau, CSVLogger, Callback\n",
    "    from tensorflow.keras import optimizers\n",
    "    from tensorflow.keras.regularizers import l2, l1, l1_l2\n",
    "    from tensorflow.keras.initializers import RandomUniform, RandomNormal\n",
    "    from tensorflow.keras.models import load_model\n",
    "    from tensorflow.keras import regularizers\n",
    "\n",
    "    params = {'batch_size': 80, 'conv2d_layers': {'conv2d_do_1': 0.2, 'conv2d_filters_1': 32, 'conv2d_kernel_size_1': 3, 'conv2d_mp_1': 0, \n",
    "                                               'conv2d_strides_1': 1, 'kernel_regularizer_1': 0.0, 'conv2d_do_2': 0.3, \n",
    "                                               'conv2d_filters_2': 64, 'conv2d_kernel_size_2': 3, 'conv2d_mp_2': 2, 'conv2d_strides_2': 1, \n",
    "                                               'kernel_regularizer_2': 0.0, 'layers': 'two'}, \n",
    "           'dense_layers': {'dense_do_1': 0.3, 'dense_nodes_1': 128, 'kernel_regularizer_1': 0.0, 'layers': 'one'},\n",
    "           'epochs': 10, 'lr': 0.001, 'optimizer': 'adam'}\n",
    "\n",
    "\n",
    "    from IPython.display import SVG\n",
    "    from tensorflow.keras.utils import plot_model\n",
    "    from keras.utils.vis_utils import model_to_dot\n",
    "\n",
    "    model = create_model_cnn(params)\n",
    "    plot_model(model, to_file='model.png', show_shapes=True, show_layer_names=False)\n",
    "\n",
    "    import os\n",
    "\n",
    "    best_model_path = os.path.join('.', 'best_model_keras')\n",
    "    es = EarlyStopping(monitor='val_loss', mode='min', verbose=1,\n",
    "                   patience=100, min_delta=0.0001)\n",
    "    rlp = ReduceLROnPlateau(monitor='val_loss', factor=0.02, patience=20, verbose=1, mode='min',\n",
    "                        min_delta=0.001, cooldown=1, min_lr=0.0001)\n",
    "    mcp = ModelCheckpoint(best_model_path, monitor='val_f1_metric', verbose=1,\n",
    "                      save_best_only=True, save_weights_only=False, mode='max', period=1)  # val_f1_metric\n",
    "    \n",
    "    history = model.fit(x_train, y_train, epochs=params['epochs'], verbose=1,\n",
    "                            batch_size=64, shuffle=True,\n",
    "                            # validation_split=0.3,\n",
    "                            validation_data=(x_cv, y_cv),\n",
    "                            callbacks=[mcp, rlp, es]\n",
    "                            , sample_weight=sample_weights)    \n",
    "    \n",
    "    from matplotlib import pyplot as plt\n",
    "    %matplotlib inline\n",
    "    InteractiveShell.ast_node_interactivity = \"last\"\n",
    "\n",
    "    plt.figure()\n",
    "    plt.plot(history.history['loss'])\n",
    "    plt.plot(history.history['val_loss'])\n",
    "    plt.plot(history.history['f1_metric'])\n",
    "    plt.plot(history.history['val_f1_metric'])\n",
    "\n",
    "    plt.title('Model loss')\n",
    "    plt.ylabel('Loss')\n",
    "    plt.xlabel('Epoch')\n",
    "    plt.legend(['train_loss', 'val_loss', 'f1', 'val_f1'], loc='upper left')\n",
    "    plt.show()\n",
    "    \n",
    "    from sklearn.metrics import confusion_matrix, roc_auc_score, cohen_kappa_score\n",
    "    import seaborn as sns\n",
    "\n",
    "    model = load_model(best_model_path)\n",
    "    test_res = model.evaluate(x_test, y_test, verbose=0)\n",
    "    print(\"keras evaluate=\", test_res)\n",
    "    pred = model.predict(x_test)\n",
    "    pred_classes = np.argmax(pred, axis=1)\n",
    "    y_test_classes = np.argmax(y_test, axis=1)\n",
    "    check_baseline(pred_classes, y_test_classes)\n",
    "    conf_mat = confusion_matrix(y_test_classes, pred_classes)\n",
    "    print(conf_mat)\n",
    "    labels = [0,1,2]\n",
    "\n",
    "    f1_weighted = f1_score(y_test_classes, pred_classes, labels=None, \n",
    "         average='weighted', sample_weight=None)\n",
    "    print(\"F1 score (weighted)\", f1_weighted)\n",
    "    print(\"F1 score (macro)\", f1_score(y_test_classes, pred_classes, labels=None, \n",
    "         average='macro', sample_weight=None))\n",
    "    print(\"F1 score (micro)\", f1_score(y_test_classes, pred_classes, labels=None, \n",
    "         average='micro', sample_weight=None))  # weighted and micro preferred in case of imbalance\n",
    "\n",
    "# https://scikit-learn.org/stable/modules/model_evaluation.html#cohen-s-kappa --> supports multiclass; ref: https://stats.stackexchange.com/questions/82162/cohens-kappa-in-plain-english\n",
    "    print(\"cohen's Kappa\", cohen_kappa_score(y_test_classes, pred_classes))\n",
    "\n",
    "    recall = []\n",
    "    for i, row in enumerate(conf_mat):\n",
    "        recall.append(np.round(row[i]/np.sum(row), 2))\n",
    "        print(\"Recall of class {} = {}\".format(i, recall[i]))\n",
    "    print(\"Recall avg\", sum(recall)/len(recall))"
   ]
  }
 ],
 "metadata": {
  "kernelspec": {
   "display_name": "dev",
   "language": "python",
   "name": "dev"
  },
  "language_info": {
   "codemirror_mode": {
    "name": "ipython",
    "version": 3
   },
   "file_extension": ".py",
   "mimetype": "text/x-python",
   "name": "python",
   "nbconvert_exporter": "python",
   "pygments_lexer": "ipython3",
   "version": "3.7.10"
  }
 },
 "nbformat": 4,
 "nbformat_minor": 5
}
